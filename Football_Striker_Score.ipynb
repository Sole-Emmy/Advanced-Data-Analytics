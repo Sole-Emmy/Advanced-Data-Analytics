{
 "cells": [
  {
   "cell_type": "code",
   "execution_count": null,
   "metadata": {},
   "outputs": [],
   "source": [
    "import requests\n",
    "\n",
    "url = \"https://raw.githubusercontent.com/frankieinguanez/com.mcast.adad2023/main/football_striker_score.csv\"\n",
    "\n",
    "response = requests.get(url)\n",
    "\n",
    "if response.status_code == 200:\n",
    "    with open('football_striker_score.csv', 'wb') as f:\n",
    "        f.write(response.content)\n",
    "    print(\"File downloaded successfully\")\n",
    "else:\n",
    "    print(\"Error downloading file\")\n"
   ]
  },
  {
   "cell_type": "code",
   "execution_count": null,
   "metadata": {},
   "outputs": [],
   "source": [
    "import pandas as pd\n",
    "import os\n",
    "\n",
    "# Get the path to the folder containing the CSV files\n",
    "folder_path = \"C:\\Users\\User\\OneDrive\\Advanced Data Analytics\\Home Assignment Research\\GitHub\\Advanced-Data-Analytics\\Football_Striker_Score.ipynb\"\n",
    "\n",
    "# Get a list of all CSV files in the folder\n",
    "csv_files = os.listdir(folder_path)\n",
    "\n",
    "# Import each CSV file into a DataFrame\n",
    "for csv_file in csv_files:\n",
    "    if csv_file.endswith('football_striker_score.csv'):\n",
    "        df = pd.read_csv(os.path.join(folder_path, csv_file))\n",
    "\n",
    "        # Process the DataFrame\n",
    "        \n"
   ]
  },
  {
   "cell_type": "code",
   "execution_count": 11,
   "metadata": {},
   "outputs": [],
   "source": [
    "import requests\n",
    "import pandas as pd\n",
    "import os\n",
    "\n",
    "url = \"https://raw.githubusercontent.com/frankieinguanez/com.mcast.adad2023/main/football_striker_score.csv\"\n",
    "response = requests.get(url)\n",
    "\n",
    "if response.status_code == 200:\n",
    "    with open('C:/Users/User/OneDrive/Advanced Data Analytics/Home Assignment Research/GitHub/Advanced-Data-Analytics/Football_Striker_Score.csv', 'wb') as f:\n",
    "        f.write(response.content)\n",
    "\n",
    "        # Import the CSV file into a DataFrame\n",
    "        df = pd.read_csv('Football_Striker_Score.csv')\n",
    "\n",
    "        # Process the DataFrame\n",
    "        \n"
   ]
  },
  {
   "cell_type": "code",
   "execution_count": null,
   "metadata": {},
   "outputs": [],
   "source": []
  }
 ],
 "metadata": {
  "kernelspec": {
   "display_name": "base",
   "language": "python",
   "name": "python3"
  },
  "language_info": {
   "codemirror_mode": {
    "name": "ipython",
    "version": 3
   },
   "file_extension": ".py",
   "mimetype": "text/x-python",
   "name": "python",
   "nbconvert_exporter": "python",
   "pygments_lexer": "ipython3",
   "version": "3.11.5"
  }
 },
 "nbformat": 4,
 "nbformat_minor": 2
}
